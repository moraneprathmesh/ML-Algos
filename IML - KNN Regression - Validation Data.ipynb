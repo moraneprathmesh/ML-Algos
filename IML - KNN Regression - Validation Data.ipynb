{
 "cells": [
  {
   "cell_type": "code",
   "execution_count": 2,
   "metadata": {},
   "outputs": [],
   "source": [
    "import pandas as pd\n",
    "import numpy as np\n",
    "import matplotlib.pyplot as plt"
   ]
  },
  {
   "cell_type": "markdown",
   "metadata": {},
   "source": [
    "### Dataset"
   ]
  },
  {
   "cell_type": "code",
   "execution_count": 3,
   "metadata": {},
   "outputs": [],
   "source": [
    "cars = pd.read_csv(r\"C:\\Users\\moran\\Desktop\\Datasets\\cars.csv\")"
   ]
  },
  {
   "cell_type": "code",
   "execution_count": 4,
   "metadata": {},
   "outputs": [],
   "source": [
    "cars = cars.loc[cars.MPG > 0, ]"
   ]
  },
  {
   "cell_type": "markdown",
   "metadata": {},
   "source": [
    "### Separating the Predictor and the Target"
   ]
  },
  {
   "cell_type": "code",
   "execution_count": 5,
   "metadata": {},
   "outputs": [],
   "source": [
    "#Predictors\n",
    "X = cars[['Cylinders', 'Displacement', 'Horsepower', 'Weight']]"
   ]
  },
  {
   "cell_type": "code",
   "execution_count": 6,
   "metadata": {},
   "outputs": [
    {
     "data": {
      "text/html": [
       "<div>\n",
       "<style scoped>\n",
       "    .dataframe tbody tr th:only-of-type {\n",
       "        vertical-align: middle;\n",
       "    }\n",
       "\n",
       "    .dataframe tbody tr th {\n",
       "        vertical-align: top;\n",
       "    }\n",
       "\n",
       "    .dataframe thead th {\n",
       "        text-align: right;\n",
       "    }\n",
       "</style>\n",
       "<table border=\"1\" class=\"dataframe\">\n",
       "  <thead>\n",
       "    <tr style=\"text-align: right;\">\n",
       "      <th></th>\n",
       "      <th>Cylinders</th>\n",
       "      <th>Displacement</th>\n",
       "      <th>Horsepower</th>\n",
       "      <th>Weight</th>\n",
       "    </tr>\n",
       "  </thead>\n",
       "  <tbody>\n",
       "    <tr>\n",
       "      <th>0</th>\n",
       "      <td>8</td>\n",
       "      <td>307.0</td>\n",
       "      <td>130</td>\n",
       "      <td>3504</td>\n",
       "    </tr>\n",
       "    <tr>\n",
       "      <th>1</th>\n",
       "      <td>8</td>\n",
       "      <td>350.0</td>\n",
       "      <td>165</td>\n",
       "      <td>3693</td>\n",
       "    </tr>\n",
       "    <tr>\n",
       "      <th>2</th>\n",
       "      <td>8</td>\n",
       "      <td>318.0</td>\n",
       "      <td>150</td>\n",
       "      <td>3436</td>\n",
       "    </tr>\n",
       "    <tr>\n",
       "      <th>3</th>\n",
       "      <td>8</td>\n",
       "      <td>304.0</td>\n",
       "      <td>150</td>\n",
       "      <td>3433</td>\n",
       "    </tr>\n",
       "    <tr>\n",
       "      <th>4</th>\n",
       "      <td>8</td>\n",
       "      <td>302.0</td>\n",
       "      <td>140</td>\n",
       "      <td>3449</td>\n",
       "    </tr>\n",
       "  </tbody>\n",
       "</table>\n",
       "</div>"
      ],
      "text/plain": [
       "   Cylinders  Displacement  Horsepower  Weight\n",
       "0          8         307.0         130    3504\n",
       "1          8         350.0         165    3693\n",
       "2          8         318.0         150    3436\n",
       "3          8         304.0         150    3433\n",
       "4          8         302.0         140    3449"
      ]
     },
     "execution_count": 6,
     "metadata": {},
     "output_type": "execute_result"
    }
   ],
   "source": [
    "X.head()"
   ]
  },
  {
   "cell_type": "code",
   "execution_count": 7,
   "metadata": {},
   "outputs": [],
   "source": [
    "#Target\n",
    "y = cars.MPG"
   ]
  },
  {
   "cell_type": "markdown",
   "metadata": {},
   "source": [
    "### Standardized (Scaled) Predictors"
   ]
  },
  {
   "cell_type": "markdown",
   "metadata": {},
   "source": [
    "Standardization: Bring the variables into a same scale where the mean of all variables are equal to 0 and the standard deviation is 1"
   ]
  },
  {
   "cell_type": "markdown",
   "metadata": {},
   "source": [
    "(X - mean(X))/Std(X)"
   ]
  },
  {
   "cell_type": "code",
   "execution_count": 8,
   "metadata": {},
   "outputs": [],
   "source": [
    "def standardize(x):\n",
    "    return((x - np.mean(x))/np.std(x))"
   ]
  },
  {
   "cell_type": "code",
   "execution_count": 9,
   "metadata": {},
   "outputs": [
    {
     "data": {
      "text/plain": [
       "1.0025188916876568"
      ]
     },
     "execution_count": 9,
     "metadata": {},
     "output_type": "execute_result"
    }
   ],
   "source": [
    "standardize(cars.Weight).var()"
   ]
  },
  {
   "cell_type": "code",
   "execution_count": 10,
   "metadata": {},
   "outputs": [],
   "source": [
    "#Apply function help us to apply a function to all the columns in the data\n",
    "#here x represents a column (array)\n",
    "X_scaled = X.apply(lambda x: (x - np.mean(x)) / np.std(x))"
   ]
  },
  {
   "cell_type": "code",
   "execution_count": 11,
   "metadata": {},
   "outputs": [
    {
     "data": {
      "text/html": [
       "<div>\n",
       "<style scoped>\n",
       "    .dataframe tbody tr th:only-of-type {\n",
       "        vertical-align: middle;\n",
       "    }\n",
       "\n",
       "    .dataframe tbody tr th {\n",
       "        vertical-align: top;\n",
       "    }\n",
       "\n",
       "    .dataframe thead th {\n",
       "        text-align: right;\n",
       "    }\n",
       "</style>\n",
       "<table border=\"1\" class=\"dataframe\">\n",
       "  <thead>\n",
       "    <tr style=\"text-align: right;\">\n",
       "      <th></th>\n",
       "      <th>Cylinders</th>\n",
       "      <th>Displacement</th>\n",
       "      <th>Horsepower</th>\n",
       "      <th>Weight</th>\n",
       "    </tr>\n",
       "  </thead>\n",
       "  <tbody>\n",
       "    <tr>\n",
       "      <th>0</th>\n",
       "      <td>1.498191</td>\n",
       "      <td>1.090604</td>\n",
       "      <td>0.673950</td>\n",
       "      <td>0.630870</td>\n",
       "    </tr>\n",
       "    <tr>\n",
       "      <th>1</th>\n",
       "      <td>1.498191</td>\n",
       "      <td>1.503514</td>\n",
       "      <td>1.544187</td>\n",
       "      <td>0.854333</td>\n",
       "    </tr>\n",
       "    <tr>\n",
       "      <th>2</th>\n",
       "      <td>1.498191</td>\n",
       "      <td>1.196232</td>\n",
       "      <td>1.171228</td>\n",
       "      <td>0.550470</td>\n",
       "    </tr>\n",
       "    <tr>\n",
       "      <th>3</th>\n",
       "      <td>1.498191</td>\n",
       "      <td>1.061796</td>\n",
       "      <td>1.171228</td>\n",
       "      <td>0.546923</td>\n",
       "    </tr>\n",
       "    <tr>\n",
       "      <th>4</th>\n",
       "      <td>1.498191</td>\n",
       "      <td>1.042591</td>\n",
       "      <td>0.922589</td>\n",
       "      <td>0.565841</td>\n",
       "    </tr>\n",
       "  </tbody>\n",
       "</table>\n",
       "</div>"
      ],
      "text/plain": [
       "   Cylinders  Displacement  Horsepower    Weight\n",
       "0   1.498191      1.090604    0.673950  0.630870\n",
       "1   1.498191      1.503514    1.544187  0.854333\n",
       "2   1.498191      1.196232    1.171228  0.550470\n",
       "3   1.498191      1.061796    1.171228  0.546923\n",
       "4   1.498191      1.042591    0.922589  0.565841"
      ]
     },
     "execution_count": 11,
     "metadata": {},
     "output_type": "execute_result"
    }
   ],
   "source": [
    "X_scaled.head()"
   ]
  },
  {
   "cell_type": "code",
   "execution_count": 12,
   "metadata": {},
   "outputs": [
    {
     "data": {
      "text/plain": [
       "Cylinders      -7.671139e-16\n",
       "Displacement   -1.205066e-16\n",
       "Horsepower     -7.420084e-17\n",
       "Weight         -1.394753e-17\n",
       "dtype: float64"
      ]
     },
     "execution_count": 12,
     "metadata": {},
     "output_type": "execute_result"
    }
   ],
   "source": [
    "X_scaled.mean()"
   ]
  },
  {
   "cell_type": "code",
   "execution_count": 13,
   "metadata": {},
   "outputs": [
    {
     "data": {
      "text/plain": [
       "Cylinders          5.454774\n",
       "Displacement     193.425879\n",
       "Horsepower       102.894472\n",
       "Weight          2970.424623\n",
       "dtype: float64"
      ]
     },
     "execution_count": 13,
     "metadata": {},
     "output_type": "execute_result"
    }
   ],
   "source": [
    "X.mean()"
   ]
  },
  {
   "cell_type": "code",
   "execution_count": 14,
   "metadata": {},
   "outputs": [
    {
     "data": {
      "text/plain": [
       "Cylinders       1.002519\n",
       "Displacement    1.002519\n",
       "Horsepower      1.002519\n",
       "Weight          1.002519\n",
       "dtype: float64"
      ]
     },
     "execution_count": 14,
     "metadata": {},
     "output_type": "execute_result"
    }
   ],
   "source": [
    "X_scaled.var()"
   ]
  },
  {
   "cell_type": "markdown",
   "metadata": {},
   "source": [
    "### Train-Validation-Test Split"
   ]
  },
  {
   "cell_type": "code",
   "execution_count": 15,
   "metadata": {},
   "outputs": [],
   "source": [
    "#Function test-train split\n",
    "from sklearn.model_selection import train_test_split"
   ]
  },
  {
   "cell_type": "code",
   "execution_count": 16,
   "metadata": {},
   "outputs": [],
   "source": [
    "(X_train, X_test, y_train, y_test) = train_test_split(X_scaled, y, test_size = 0.2)"
   ]
  },
  {
   "cell_type": "code",
   "execution_count": 17,
   "metadata": {},
   "outputs": [
    {
     "name": "stdout",
     "output_type": "stream",
     "text": [
      "318 80\n"
     ]
    }
   ],
   "source": [
    "print(len(X_train), len(X_test))"
   ]
  },
  {
   "cell_type": "code",
   "execution_count": 18,
   "metadata": {},
   "outputs": [],
   "source": [
    "(X_train, X_valid, y_train, y_valid) = train_test_split(X_train, y_train, test_size = 0.25)"
   ]
  },
  {
   "cell_type": "code",
   "execution_count": 19,
   "metadata": {},
   "outputs": [
    {
     "name": "stdout",
     "output_type": "stream",
     "text": [
      "238 80\n"
     ]
    }
   ],
   "source": [
    "print(len(X_train), len(X_valid))"
   ]
  },
  {
   "cell_type": "markdown",
   "metadata": {},
   "source": [
    "### Fitting a KNN Regressor"
   ]
  },
  {
   "cell_type": "code",
   "execution_count": 20,
   "metadata": {},
   "outputs": [],
   "source": [
    "from sklearn.neighbors import KNeighborsRegressor"
   ]
  },
  {
   "cell_type": "code",
   "execution_count": 21,
   "metadata": {},
   "outputs": [
    {
     "data": {
      "text/plain": [
       "KNeighborsRegressor(metric='euclidean', n_neighbors=3)"
      ]
     },
     "execution_count": 21,
     "metadata": {},
     "output_type": "execute_result"
    }
   ],
   "source": [
    "# Step-1: instantiate learning model (k = 3)\n",
    "knn = KNeighborsRegressor(n_neighbors=3, metric='euclidean') # 3-NN using euclidean distance\n",
    "\n",
    "# Step-2: fitting the model\n",
    "knn.fit(X_train, y_train)"
   ]
  },
  {
   "cell_type": "markdown",
   "metadata": {},
   "source": [
    "### Prediction"
   ]
  },
  {
   "cell_type": "code",
   "execution_count": 22,
   "metadata": {},
   "outputs": [],
   "source": [
    "#Make prediction on the test data\n",
    "predicted_values = knn.predict(X_test)"
   ]
  },
  {
   "cell_type": "code",
   "execution_count": 23,
   "metadata": {},
   "outputs": [
    {
     "data": {
      "text/plain": [
       "array([35.73333333, 14.5       , 27.        , 22.        , 29.        ,\n",
       "       33.96666667, 23.        , 19.53333333, 26.33333333, 26.        ,\n",
       "       19.        , 25.63333333, 24.63333333, 33.66666667, 25.83333333,\n",
       "       35.83333333, 31.16666667, 24.66666667, 35.76666667, 31.1       ,\n",
       "       14.        , 32.03333333, 28.5       , 22.13333333, 32.7       ,\n",
       "       35.36666667, 27.66666667, 25.16666667, 15.66666667, 31.66666667,\n",
       "       21.33333333, 32.76666667, 36.43333333, 10.33333333, 22.13333333,\n",
       "       18.8       , 35.76666667, 28.33333333, 12.66666667, 28.33333333,\n",
       "       26.63333333, 19.33333333, 27.4       , 36.43333333, 15.        ,\n",
       "       23.23333333, 24.96666667, 35.66666667, 32.66666667, 29.06666667,\n",
       "       15.66666667, 21.33333333, 19.        , 17.03333333, 16.33333333,\n",
       "       19.53333333, 25.76666667, 35.66666667, 27.66666667, 19.66666667,\n",
       "       25.        , 32.5       , 17.        , 13.16666667, 25.16666667,\n",
       "       21.66666667, 18.56666667, 14.5       , 14.66666667, 25.3       ,\n",
       "       31.9       , 23.63333333, 16.        , 25.1       , 18.66666667,\n",
       "       33.        , 18.6       , 13.83333333, 26.66666667, 13.16666667])"
      ]
     },
     "execution_count": 23,
     "metadata": {},
     "output_type": "execute_result"
    }
   ],
   "source": [
    "#predicted values of all the obs in the test data based on 3-NN model\n",
    "predicted_values"
   ]
  },
  {
   "cell_type": "markdown",
   "metadata": {},
   "source": [
    "        For each observation in the test data:\n",
    "            search k nearest neighbours from the training data\n",
    "            predicted value = mean(y of the k nearest neighbours)"
   ]
  },
  {
   "cell_type": "markdown",
   "metadata": {},
   "source": [
    "On average, the results of the predictions done by the model is (plus or minus) 3.18 off the actual value."
   ]
  },
  {
   "cell_type": "markdown",
   "metadata": {},
   "source": [
    "### Accuracy Checks"
   ]
  },
  {
   "cell_type": "code",
   "execution_count": 24,
   "metadata": {},
   "outputs": [
    {
     "data": {
      "text/plain": [
       "3.2841666666666662"
      ]
     },
     "execution_count": 24,
     "metadata": {},
     "output_type": "execute_result"
    }
   ],
   "source": [
    "# MAE (Mean Absolute Error)\n",
    "np.mean(np.abs(y_test - predicted_values))"
   ]
  },
  {
   "cell_type": "code",
   "execution_count": 25,
   "metadata": {},
   "outputs": [
    {
     "data": {
      "text/plain": [
       "17.787138888888887"
      ]
     },
     "execution_count": 25,
     "metadata": {},
     "output_type": "execute_result"
    }
   ],
   "source": [
    "# MSE (Mean Squared Error)\n",
    "np.mean((y_test - predicted_values)**2)"
   ]
  },
  {
   "cell_type": "code",
   "execution_count": 26,
   "metadata": {},
   "outputs": [
    {
     "data": {
      "text/plain": [
       "4.217480158683487"
      ]
     },
     "execution_count": 26,
     "metadata": {},
     "output_type": "execute_result"
    }
   ],
   "source": [
    "# RMSE (Root Mean Squared Error)\n",
    "np.sqrt(np.mean((y_test - predicted_values)**2))"
   ]
  },
  {
   "cell_type": "code",
   "execution_count": 27,
   "metadata": {},
   "outputs": [
    {
     "data": {
      "text/plain": [
       "13.433245956214208"
      ]
     },
     "execution_count": 27,
     "metadata": {},
     "output_type": "execute_result"
    }
   ],
   "source": [
    "# MAPE (Mean Absolute Percentage Error)\n",
    "np.mean(np.abs(y_test - predicted_values)/y_test)*100"
   ]
  },
  {
   "cell_type": "markdown",
   "metadata": {},
   "source": [
    "### Choosing best k"
   ]
  },
  {
   "cell_type": "code",
   "execution_count": 28,
   "metadata": {},
   "outputs": [],
   "source": [
    "neighbour = np.arange(1,51)\n",
    "mad = []\n",
    "\n",
    "for k in neighbour:\n",
    "    knn = KNeighborsRegressor(n_neighbors=k, metric=\"euclidean\")\n",
    "    knn.fit(X_train, y_train)\n",
    "    predicted_values = knn.predict(X_valid)\n",
    "    mad.append(np.mean(np.abs(y_valid - predicted_values)))"
   ]
  },
  {
   "cell_type": "code",
   "execution_count": 29,
   "metadata": {},
   "outputs": [
    {
     "data": {
      "image/png": "[encoded data removed]",
      "text/plain": [
       "<Figure size 432x288 with 1 Axes>"
      ]
     },
     "metadata": {
      "needs_background": "light"
     },
     "output_type": "display_data"
    }
   ],
   "source": [
    "plt.plot(neighbour, np.array(mad))\n",
    "plt.show()"
   ]
  },
  {
   "cell_type": "code",
   "execution_count": 30,
   "metadata": {},
   "outputs": [
    {
     "data": {
      "text/plain": [
       "[2.9266666666666667,\n",
       " 2.9662499999999987,\n",
       " 3.0091911764705883,\n",
       " 3.0476388888888892,\n",
       " 3.072236842105263,\n",
       " 3.0976249999999985,\n",
       " 3.092142857142858,\n",
       " 3.1025000000000005,\n",
       " 3.1164130434782606,\n",
       " 3.0930208333333327,\n",
       " 3.083]"
      ]
     },
     "execution_count": 30,
     "metadata": {},
     "output_type": "execute_result"
    }
   ],
   "source": [
    "mad[14:25]"
   ]
  },
  {
   "cell_type": "code",
   "execution_count": 31,
   "metadata": {},
   "outputs": [],
   "source": [
    "k_selected = [4, 9, 11, 22]"
   ]
  },
  {
   "cell_type": "code",
   "execution_count": 32,
   "metadata": {},
   "outputs": [],
   "source": [
    "mad = []\n",
    "\n",
    "for k in k_selected:\n",
    "    knn = KNeighborsRegressor(n_neighbors=k, metric=\"euclidean\")\n",
    "    knn.fit(X_train, y_train)\n",
    "    predicted_values = knn.predict(X_test)\n",
    "    mad.append(np.mean(np.abs(y_test - predicted_values)))"
   ]
  },
  {
   "cell_type": "code",
   "execution_count": 33,
   "metadata": {},
   "outputs": [
    {
     "data": {
      "text/plain": [
       "[3.1812499999999995, 2.786111111111111, 2.7002272727272723, 2.7452840909090908]"
      ]
     },
     "execution_count": 33,
     "metadata": {},
     "output_type": "execute_result"
    }
   ],
   "source": [
    "mad"
   ]
  },
  {
   "cell_type": "code",
   "execution_count": null,
   "metadata": {},
   "outputs": [],
   "source": []
  },
  {
   "cell_type": "code",
   "execution_count": null,
   "metadata": {},
   "outputs": [],
   "source": []
  },
  {
   "cell_type": "code",
   "execution_count": null,
   "metadata": {},
   "outputs": [],
   "source": []
  }
 ],
 "metadata": {
  "kernelspec": {
   "display_name": "Python 3 (ipykernel)",
   "language": "python",
   "name": "python3"
  },
  "language_info": {
   "codemirror_mode": {
    "name": "ipython",
    "version": 3
   },
   "file_extension": ".py",
   "mimetype": "text/x-python",
   "name": "python",
   "nbconvert_exporter": "python",
   "pygments_lexer": "ipython3",
   "version": "3.9.7"
  }
 },
 "nbformat": 4,
 "nbformat_minor": 4
}
